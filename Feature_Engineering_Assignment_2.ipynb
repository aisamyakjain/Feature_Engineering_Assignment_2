{
 "cells": [
  {
   "cell_type": "markdown",
   "id": "91b3d7b8-7992-4838-bbf2-b1b1e417e8e7",
   "metadata": {},
   "source": [
    "Q1. What is data encoding? How is it useful in data science\n",
    "\n",
    "Answer: Data encoding refers to the process of transforming data from one representation to another. \n",
    "It is useful in data science for tasks like categorical variable conversion or preparing data for machine learning algorithms."
   ]
  },
  {
   "cell_type": "markdown",
   "id": "2f09c2d1-97c8-4d2d-9498-a9683c5da46d",
   "metadata": {},
   "source": [
    "Q2. What is nominal encoding? Provide an example of how you would use it in a real-world scenario.\n",
    "\n",
    "Answer: Nominal encoding is a technique used to represent categorical variables with unique numerical codes. For example, in a customer segmentation scenario, assigning unique numeric codes to different customer types (e.g., 1 for \"Premium,\" 2 for \"Regular,\" and 3 for \"New\") \n",
    "enables analysis and modeling algorithms to process the data effectively."
   ]
  },
  {
   "cell_type": "markdown",
   "id": "e91f8666-7855-45bf-899f-4c0179a4a852",
   "metadata": {},
   "source": [
    "Q3. In what situations is nominal encoding preferred over one-hot encoding? Provide a practical example.\n",
    "\n",
    "Answer: Nominal encoding is preferred over one-hot encoding when dealing with high-cardinality categorical variables, where the number of unique categories is large. For example, encoding user IDs in a recommendation system with millions of users. One-hot encoding would create an excessively large number of features, while nominal encoding reduces dimensionality."
   ]
  },
  {
   "cell_type": "markdown",
   "id": "f3894ec8-a6a7-4a2c-bd50-4b00756a88d0",
   "metadata": {},
   "source": [
    "Q4. Suppose you have a dataset containing categorical data with 5 unique values. Which encoding \n",
    "technique would you use to transform this data into a format suitable for machine learning algorithms? \n",
    "Explain why you made this choice.\n",
    "\n",
    "Answer: f the categorical data in the dataset contains only 5 unique values, I would choose to use one-hot encoding to transform the data into a format suitable for machine learning algorithms. One-hot encoding creates binary features for each unique category, allowing the algorithm to treat each category as a separate feature and capture their individual impact on the target variable."
   ]
  },
  {
   "cell_type": "markdown",
   "id": "3f22f3c2-1acb-4651-80f1-423321cf3536",
   "metadata": {},
   "source": [
    "Q5. In a machine learning project, you have a dataset with 1000 rows and 5 columns. Two of the columns \n",
    "are categorical, and the remaining three columns are numerical. If you were to use nominal encoding to \n",
    "transform the categorical data, how many new columns would be created? Show your calculations\n",
    "\n",
    "Answer: If we use nominal encoding on two categorical columns, the number of new columns created would depend on the number of unique values in each categorical column. Let's assume the first categorical column has 10 unique values, and the second categorical column has 5 unique values.\n",
    "\n",
    "For the first categorical column, nominal encoding would create 10 new columns (one for each unique value).\n",
    "For the second categorical column, nominal encoding would create 5 new columns (one for each unique value).\n",
    "\n",
    "Therefore, in total, nominal encoding would create 10 + 5 = 15 new columns."
   ]
  },
  {
   "cell_type": "markdown",
   "id": "cda552fa-067d-4e69-9d11-efae3be82f6d",
   "metadata": {},
   "source": [
    "Q6. You are working with a dataset containing information about different types of animals, including their \n",
    "species, habitat, and diet. Which encoding technique would you use to transform the categorical data into \n",
    "a format suitable for machine learning algorithms? Justify your answer\n",
    "\n",
    "Answer: To transform the categorical data about animals' species, habitat, and diet, I would use one-hot encoding. It preserves the categorical information, avoids assigning ordinal relationships, and enables machine \n",
    "learning algorithms to interpret and analyze the data effectively by representing each category as a separate binary feature.\n"
   ]
  },
  {
   "cell_type": "markdown",
   "id": "39a8a3e9-6a40-4bbd-94d7-7603fb7f1abc",
   "metadata": {},
   "source": [
    "Q7.You are working on a project that involves predicting customer churn for a telecommunications \n",
    "company. You have a dataset with 5 features, including the customer's gender, age, contract type, \n",
    "monthly charges, and tenure. Which encoding technique(s) would you use to transform the categorical \n",
    "data into numerical data? Provide a step-by-step explanation of how you would implement the encoding.\n",
    "\n",
    "Answer: To transform the categorical data into numerical data for predicting customer churn in a telecommunications company, I would use the following encoding techniques:\n",
    "\n",
    "Label Encoding: Since the feature \"gender\" has only two categories (e.g., \"Male\" and \"Female\"), I would use label encoding to transform it into numerical values. Label encoding assigns a unique numerical label to each category.\n",
    "\n",
    "One-Hot Encoding: For the feature \"contract type\" which likely has multiple categories (e.g., \"Month-to-month,\" \"One-year,\" \"Two-year\"), I would use one-hot encoding. One-hot encoding creates separate binary columns for each category, indicating the presence or absence of that category.\n",
    "\n",
    "By using label encoding for binary categorical features and one-hot encoding for categorical features with more than two categories, we can transform the categorical data into numerical format suitable for machine learning algorithms."
   ]
  },
  {
   "cell_type": "code",
   "execution_count": null,
   "id": "fd985556-eae6-4f15-8af2-e5841e98a74f",
   "metadata": {},
   "outputs": [],
   "source": []
  }
 ],
 "metadata": {
  "kernelspec": {
   "display_name": "Python 3 (ipykernel)",
   "language": "python",
   "name": "python3"
  },
  "language_info": {
   "codemirror_mode": {
    "name": "ipython",
    "version": 3
   },
   "file_extension": ".py",
   "mimetype": "text/x-python",
   "name": "python",
   "nbconvert_exporter": "python",
   "pygments_lexer": "ipython3",
   "version": "3.10.8"
  }
 },
 "nbformat": 4,
 "nbformat_minor": 5
}
